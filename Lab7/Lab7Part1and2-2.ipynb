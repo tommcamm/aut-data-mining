{
 "cells": [
  {
   "metadata": {},
   "cell_type": "markdown",
   "source": [
    "# Lab 7\n",
    "\n",
    "Import of used libraries"
   ],
   "id": "1d5ef4ed9ba8689d"
  },
  {
   "cell_type": "code",
   "id": "f77f8cff",
   "metadata": {
    "ExecuteTime": {
     "end_time": "2024-04-11T00:33:14.056253Z",
     "start_time": "2024-04-11T00:33:13.492982Z"
    }
   },
   "source": [
    "import numpy as np # linear algebra\n",
    "import pandas as pd # data processing, CSV file I/O (e.g. pd.read_csv)\n",
    "import matplotlib.pyplot as plt # data visualization\n",
    "import seaborn as sns # statistical data visualization\n",
    "from sklearn.model_selection import train_test_split\n",
    "%matplotlib inline\n",
    "\n",
    "from sklearn.tree import DecisionTreeClassifier\n",
    "from sklearn import tree\n",
    "from sklearn.metrics import accuracy_score\n",
    "from sklearn.metrics import confusion_matrix\n",
    "from sklearn.metrics import classification_report\n",
    "from sklearn.metrics import accuracy_score, confusion_matrix, ConfusionMatrixDisplay \n",
    "import category_encoders as ce\n",
    "import graphviz \n",
    "\n",
    "import os\n",
    "os.environ[\"PATH\"] += os.pathsep + 'C:/Program Files    (x86)/Graphviz/bin/'\n",
    "\n",
    "import warnings\n",
    "warnings.filterwarnings('ignore')"
   ],
   "outputs": [],
   "execution_count": 1
  },
  {
   "metadata": {},
   "cell_type": "markdown",
   "source": "## Part 1 - Iris dataset",
   "id": "12d789b30e213281"
  },
  {
   "cell_type": "code",
   "id": "011b98cf",
   "metadata": {
    "ExecuteTime": {
     "end_time": "2024-04-11T00:37:07.278496Z",
     "start_time": "2024-04-11T00:37:07.247703Z"
    }
   },
   "source": [
    "#PART I\n",
    "#Task 1\n",
    "#Load iris data into 'myiris' dataframe \n",
    "\n",
    "myiris = pd.read_excel('Iris.xlsx') \n",
    "nrow, ncol = myiris.shape\n",
    "\n",
    "\n",
    "predictors = myiris.iloc[:, :ncol - 1]\n",
    "target = myiris.iloc[:, -1]\n",
    "X_train, X_test, y_train, y_test = train_test_split(predictors, target,  test_size=.3)\n",
    "DTC = DecisionTreeClassifier(max_depth = 3, min_samples_leaf = 4, random_state = 27)\n",
    "DTC.fit(X_train, y_train)\n",
    "y_predict = DTC.predict(X_test)"
   ],
   "outputs": [],
   "execution_count": 6
  },
  {
   "cell_type": "code",
   "id": "4968ccad",
   "metadata": {
    "ExecuteTime": {
     "end_time": "2024-04-11T00:34:15.677884Z",
     "start_time": "2024-04-11T00:34:15.481796Z"
    }
   },
   "source": [
    "#Part I: Task 2\n",
    "print(confusion_matrix(y_test, y_predict, labels=[0, 1,2])) # retrieve confusion matrix\n",
    "#plot_confusion_matrix(DTC, X_test, y_test, cmap=plt.cm.Blues) # plot confusion matrix\n",
    "#ConfusionMatrixDisplay(DTC, X_test, y_predict) # plot confusion matrix\n",
    "\n",
    "cm = confusion_matrix(y_test, y_predict, labels=DTC.classes_)\n",
    "disp = ConfusionMatrixDisplay(confusion_matrix=cm,display_labels=DTC.classes_) \n",
    "disp.plot()\n",
    "'''\n",
    "[15  0  0]\n",
    "[ 0 16  0]\n",
    "[ 0  3 11]\n",
    "out of 14 instances of class '2', 11 were correctly classified as '2'\n",
    "we wrongly predicted 3 instances of class '2' as class '1' \n",
    " '''"
   ],
   "outputs": [
    {
     "name": "stdout",
     "output_type": "stream",
     "text": [
      "[[12  0  0]\n",
      " [ 0 18  3]\n",
      " [ 0  1 11]]\n"
     ]
    },
    {
     "data": {
      "text/plain": [
       "\"\\n[15  0  0]\\n[ 0 16  0]\\n[ 0  3 11]\\nout of 14 instances of class '2', 11 were correctly classified as '2'\\nwe wrongly predicted 3 instances of class '2' as class '1' \\n \\n\""
      ]
     },
     "execution_count": 3,
     "metadata": {},
     "output_type": "execute_result"
    },
    {
     "data": {
      "text/plain": [
       "<Figure size 640x480 with 2 Axes>"
      ],
      "image/png": "[encoded data removed]"
     },
     "metadata": {},
     "output_type": "display_data"
    }
   ],
   "execution_count": 3
  },
  {
   "cell_type": "code",
   "id": "7c3625bf",
   "metadata": {
    "ExecuteTime": {
     "end_time": "2024-04-11T00:34:21.926223Z",
     "start_time": "2024-04-11T00:34:21.901710Z"
    }
   },
   "source": [
    "#Part I: Task 3\n",
    "print(classification_report(y_test, y_predict, target_names=['0', '1', '2'])) # retrieve classification report\n",
    "\n",
    "'''\n",
    "Accuracy is an overall measure of correct prediction, regardless of the class (positive or negative). \n",
    "The complement of accuracy is error rate or misclassification rate.\n",
    "\n",
    "High recall implies that very few positives are misclassified as negatives. \n",
    "High precision implies very few negatives are misclassified as positives. \n",
    "There's a trade-off here. If model is partial towards positives, we'll end up with high recall but low precision. \n",
    "It model favours negatives, we'll end up with low recall and high precision.\n",
    "\n",
    "High specificity, like high precision, implies that very few negatives are misclassified as positives.\n",
    "'''"
   ],
   "outputs": [
    {
     "name": "stdout",
     "output_type": "stream",
     "text": [
      "              precision    recall  f1-score   support\n",
      "\n",
      "           0       1.00      1.00      1.00        12\n",
      "           1       0.95      0.86      0.90        21\n",
      "           2       0.79      0.92      0.85        12\n",
      "\n",
      "    accuracy                           0.91        45\n",
      "   macro avg       0.91      0.92      0.92        45\n",
      "weighted avg       0.92      0.91      0.91        45\n",
      "\n"
     ]
    },
    {
     "data": {
      "text/plain": [
       "\"\\nAccuracy is an overall measure of correct prediction, regardless of the class (positive or negative). \\nThe complement of accuracy is error rate or misclassification rate.\\n\\nHigh recall implies that very few positives are misclassified as negatives. \\nHigh precision implies very few negatives are misclassified as positives. \\nThere's a trade-off here. If model is partial towards positives, we'll end up with high recall but low precision. \\nIt model favours negatives, we'll end up with low recall and high precision.\\n\\nHigh specificity, like high precision, implies that very few negatives are misclassified as positives.\\n\""
      ]
     },
     "execution_count": 4,
     "metadata": {},
     "output_type": "execute_result"
    }
   ],
   "execution_count": 4
  },
  {
   "metadata": {},
   "cell_type": "markdown",
   "source": "## Part 2 - Car Evaluation",
   "id": "1a59103c7e6ed1eb"
  },
  {
   "cell_type": "code",
   "id": "1437553b",
   "metadata": {
    "ExecuteTime": {
     "end_time": "2024-04-11T00:42:57.903989Z",
     "start_time": "2024-04-11T00:42:57.870651Z"
    }
   },
   "source": [
    "#PART II\n",
    "#Import dataset \n",
    "mycar = pd.read_csv('car_evaluation.csv', header=None)\n",
    "\n",
    "# view dimensions of dataset\n",
    "print(mycar.shape)\n",
    "\n",
    "# preview the dataframe\n",
    "mycar.head()"
   ],
   "outputs": [
    {
     "name": "stdout",
     "output_type": "stream",
     "text": [
      "(1728, 7)\n"
     ]
    },
    {
     "data": {
      "text/plain": [
       "       0      1  2  3      4     5      6\n",
       "0  vhigh  vhigh  2  2  small   low  unacc\n",
       "1  vhigh  vhigh  2  2  small   med  unacc\n",
       "2  vhigh  vhigh  2  2  small  high  unacc\n",
       "3  vhigh  vhigh  2  2    med   low  unacc\n",
       "4  vhigh  vhigh  2  2    med   med  unacc"
      ],
      "text/html": [
       "<div>\n",
       "<style scoped>\n",
       "    .dataframe tbody tr th:only-of-type {\n",
       "        vertical-align: middle;\n",
       "    }\n",
       "\n",
       "    .dataframe tbody tr th {\n",
       "        vertical-align: top;\n",
       "    }\n",
       "\n",
       "    .dataframe thead th {\n",
       "        text-align: right;\n",
       "    }\n",
       "</style>\n",
       "<table border=\"1\" class=\"dataframe\">\n",
       "  <thead>\n",
       "    <tr style=\"text-align: right;\">\n",
       "      <th></th>\n",
       "      <th>0</th>\n",
       "      <th>1</th>\n",
       "      <th>2</th>\n",
       "      <th>3</th>\n",
       "      <th>4</th>\n",
       "      <th>5</th>\n",
       "      <th>6</th>\n",
       "    </tr>\n",
       "  </thead>\n",
       "  <tbody>\n",
       "    <tr>\n",
       "      <th>0</th>\n",
       "      <td>vhigh</td>\n",
       "      <td>vhigh</td>\n",
       "      <td>2</td>\n",
       "      <td>2</td>\n",
       "      <td>small</td>\n",
       "      <td>low</td>\n",
       "      <td>unacc</td>\n",
       "    </tr>\n",
       "    <tr>\n",
       "      <th>1</th>\n",
       "      <td>vhigh</td>\n",
       "      <td>vhigh</td>\n",
       "      <td>2</td>\n",
       "      <td>2</td>\n",
       "      <td>small</td>\n",
       "      <td>med</td>\n",
       "      <td>unacc</td>\n",
       "    </tr>\n",
       "    <tr>\n",
       "      <th>2</th>\n",
       "      <td>vhigh</td>\n",
       "      <td>vhigh</td>\n",
       "      <td>2</td>\n",
       "      <td>2</td>\n",
       "      <td>small</td>\n",
       "      <td>high</td>\n",
       "      <td>unacc</td>\n",
       "    </tr>\n",
       "    <tr>\n",
       "      <th>3</th>\n",
       "      <td>vhigh</td>\n",
       "      <td>vhigh</td>\n",
       "      <td>2</td>\n",
       "      <td>2</td>\n",
       "      <td>med</td>\n",
       "      <td>low</td>\n",
       "      <td>unacc</td>\n",
       "    </tr>\n",
       "    <tr>\n",
       "      <th>4</th>\n",
       "      <td>vhigh</td>\n",
       "      <td>vhigh</td>\n",
       "      <td>2</td>\n",
       "      <td>2</td>\n",
       "      <td>med</td>\n",
       "      <td>med</td>\n",
       "      <td>unacc</td>\n",
       "    </tr>\n",
       "  </tbody>\n",
       "</table>\n",
       "</div>"
      ]
     },
     "execution_count": 7,
     "metadata": {},
     "output_type": "execute_result"
    }
   ],
   "execution_count": 7
  },
  {
   "cell_type": "code",
   "id": "22b80396",
   "metadata": {
    "ExecuteTime": {
     "end_time": "2024-04-11T00:43:43.939574Z",
     "start_time": "2024-04-11T00:43:43.926241Z"
    }
   },
   "source": [
    "'''\n",
    "Rename column names: give proper column name \n",
    "'''\n",
    "col_names = ['buying', 'maint', 'doors', 'persons', 'lug_boot', 'safety', 'class']\n",
    "mycar.columns = col_names\n",
    "\n",
    "#  preview the dataframe\n",
    "print(mycar.head())\n",
    "#Check the number of missing values\n",
    "mycar.isnull().sum()\n",
    "\n",
    "#mycar['class'].value_counts()  "
   ],
   "outputs": [
    {
     "name": "stdout",
     "output_type": "stream",
     "text": [
      "  buying  maint doors persons lug_boot safety  class\n",
      "0  vhigh  vhigh     2       2    small    low  unacc\n",
      "1  vhigh  vhigh     2       2    small    med  unacc\n",
      "2  vhigh  vhigh     2       2    small   high  unacc\n",
      "3  vhigh  vhigh     2       2      med    low  unacc\n",
      "4  vhigh  vhigh     2       2      med    med  unacc\n"
     ]
    },
    {
     "data": {
      "text/plain": [
       "buying      0\n",
       "maint       0\n",
       "doors       0\n",
       "persons     0\n",
       "lug_boot    0\n",
       "safety      0\n",
       "class       0\n",
       "dtype: int64"
      ]
     },
     "execution_count": 8,
     "metadata": {},
     "output_type": "execute_result"
    }
   ],
   "execution_count": 8
  },
  {
   "cell_type": "code",
   "id": "1e184698",
   "metadata": {
    "ExecuteTime": {
     "end_time": "2024-04-11T01:19:00.774715Z",
     "start_time": "2024-04-11T01:19:00.765248Z"
    }
   },
   "source": [
    "#Task 1.1 Declare input and target variable and create the splits\n",
    "\n",
    "X = mycar.drop(['class'], axis=1) #input/feature vector\n",
    "y = mycar['class']#target\n",
    "\n",
    "#Split data into separate training and test set \n",
    "from sklearn.model_selection import train_test_split\n",
    "\n",
    "X_train, X_test, y_train, y_test = train_test_split(X, y, test_size = 0.3, random_state = 42)\n",
    "# check the shape of X_train and X_test\n",
    "\n",
    "X_train.shape, X_test.shape"
   ],
   "outputs": [
    {
     "data": {
      "text/plain": [
       "((1209, 6), (519, 6))"
      ]
     },
     "execution_count": 10,
     "metadata": {},
     "output_type": "execute_result"
    }
   ],
   "execution_count": 10
  },
  {
   "cell_type": "code",
   "execution_count": 9,
   "id": "c6484577",
   "metadata": {},
   "outputs": [
    {
     "data": {
      "text/html": [
       "<div>\n",
       "<style scoped>\n",
       "    .dataframe tbody tr th:only-of-type {\n",
       "        vertical-align: middle;\n",
       "    }\n",
       "\n",
       "    .dataframe tbody tr th {\n",
       "        vertical-align: top;\n",
       "    }\n",
       "\n",
       "    .dataframe thead th {\n",
       "        text-align: right;\n",
       "    }\n",
       "</style>\n",
       "<table border=\"1\" class=\"dataframe\">\n",
       "  <thead>\n",
       "    <tr style=\"text-align: right;\">\n",
       "      <th></th>\n",
       "      <th>buying</th>\n",
       "      <th>maint</th>\n",
       "      <th>doors</th>\n",
       "      <th>persons</th>\n",
       "      <th>lug_boot</th>\n",
       "      <th>safety</th>\n",
       "    </tr>\n",
       "  </thead>\n",
       "  <tbody>\n",
       "    <tr>\n",
       "      <th>599</th>\n",
       "      <td>2</td>\n",
       "      <td>2</td>\n",
       "      <td>3</td>\n",
       "      <td>3</td>\n",
       "      <td>3</td>\n",
       "      <td>1</td>\n",
       "    </tr>\n",
       "    <tr>\n",
       "      <th>1201</th>\n",
       "      <td>1</td>\n",
       "      <td>4</td>\n",
       "      <td>4</td>\n",
       "      <td>1</td>\n",
       "      <td>3</td>\n",
       "      <td>3</td>\n",
       "    </tr>\n",
       "    <tr>\n",
       "      <th>628</th>\n",
       "      <td>2</td>\n",
       "      <td>2</td>\n",
       "      <td>1</td>\n",
       "      <td>3</td>\n",
       "      <td>1</td>\n",
       "      <td>3</td>\n",
       "    </tr>\n",
       "    <tr>\n",
       "      <th>1498</th>\n",
       "      <td>3</td>\n",
       "      <td>2</td>\n",
       "      <td>1</td>\n",
       "      <td>1</td>\n",
       "      <td>3</td>\n",
       "      <td>3</td>\n",
       "    </tr>\n",
       "    <tr>\n",
       "      <th>1263</th>\n",
       "      <td>1</td>\n",
       "      <td>4</td>\n",
       "      <td>3</td>\n",
       "      <td>2</td>\n",
       "      <td>3</td>\n",
       "      <td>2</td>\n",
       "    </tr>\n",
       "  </tbody>\n",
       "</table>\n",
       "</div>"
      ],
      "text/plain": [
       "      buying  maint  doors  persons  lug_boot  safety\n",
       "599        2      2      3        3         3       1\n",
       "1201       1      4      4        1         3       3\n",
       "628        2      2      1        3         1       3\n",
       "1498       3      2      1        1         3       3\n",
       "1263       1      4      3        2         3       2"
      ]
     },
     "execution_count": 9,
     "metadata": {},
     "output_type": "execute_result"
    }
   ],
   "source": [
    "# Task 1.2 Feature Engineering \n",
    "    # encode variables with ordinal encoding\n",
    "\n",
    "encoder = ce.OrdinalEncoder(cols=['buying', 'maint', 'doors', 'persons', 'lug_boot', 'safety'])\n",
    "\n",
    "X_train = encoder.fit_transform(X_train)\n",
    "X_test = encoder.transform(X_test)\n",
    "X_train.head()\n",
    "X_test.head()"
   ]
  },
  {
   "cell_type": "code",
   "execution_count": 10,
   "id": "88c5479e",
   "metadata": {},
   "outputs": [
    {
     "name": "stdout",
     "output_type": "stream",
     "text": [
      "Model accuracy score with criterion gini index: 0.76\n"
     ]
    },
    {
     "data": {
      "image/png": "[encoded data removed]",
      "text/plain": [
       "<Figure size 1200x800 with 1 Axes>"
      ]
     },
     "metadata": {},
     "output_type": "display_data"
    }
   ],
   "source": [
    "# Task 2.1: Decision Tree Classifier with criterion gini index \n",
    "\n",
    "mytree_gini = DecisionTreeClassifier(criterion='gini', random_state=0, max_depth=3)\n",
    "\n",
    "#Visualize decision-trees\n",
    "plt.figure(figsize=(12,8))\n",
    "tree.plot_tree(mytree_gini.fit(X_train, y_train))\n",
    "\n",
    "# Task 2.2 :fit the model and make prediction\n",
    "\n",
    "mytree_gini.fit(X_train, y_train)\n",
    "#Predict the Test set results with criterion gini index\n",
    "y_pred_gini = mytree_gini.predict(X_test)\n",
    "\n",
    "#Check accuracy score with criterion gini index\n",
    "print('Model accuracy score with criterion gini index: {0:0.2f}'. format(accuracy_score(y_test, y_pred_gini)))\n"
   ]
  },
  {
   "cell_type": "code",
   "execution_count": 11,
   "id": "39969750",
   "metadata": {},
   "outputs": [
    {
     "data": {
      "text/plain": [
       "'\\n#Task 2.2: Visualize decision-trees with graphviz\\n\\ndot_data = tree.export_graphviz(mytree_gini, out_file=None, \\n                              feature_names=X_train.columns,  \\n                              class_names=y_train,  \\n                              filled=True, rounded=True,  \\n                              special_characters=True)\\n\\nmygini_visgraph = graphviz.Source(dot_data) \\nmygini_visgraph \\n\\n'"
      ]
     },
     "execution_count": 11,
     "metadata": {},
     "output_type": "execute_result"
    }
   ],
   "source": [
    "'''\n",
    "#Task 2.2: Visualize decision-trees with graphviz\n",
    "\n",
    "dot_data = tree.export_graphviz(mytree_gini, out_file=None, \n",
    "                              feature_names=X_train.columns,  \n",
    "                              class_names=y_train,  \n",
    "                              filled=True, rounded=True,  \n",
    "                              special_characters=True)\n",
    "\n",
    "mygini_visgraph = graphviz.Source(dot_data) \n",
    "mygini_visgraph \n",
    "\n",
    "'''"
   ]
  },
  {
   "cell_type": "code",
   "execution_count": 12,
   "id": "404be4c5",
   "metadata": {},
   "outputs": [
    {
     "data": {
      "text/html": [
       "<div>\n",
       "<style scoped>\n",
       "    .dataframe tbody tr th:only-of-type {\n",
       "        vertical-align: middle;\n",
       "    }\n",
       "\n",
       "    .dataframe tbody tr th {\n",
       "        vertical-align: top;\n",
       "    }\n",
       "\n",
       "    .dataframe thead th {\n",
       "        text-align: right;\n",
       "    }\n",
       "</style>\n",
       "<table border=\"1\" class=\"dataframe\">\n",
       "  <thead>\n",
       "    <tr style=\"text-align: right;\">\n",
       "      <th></th>\n",
       "      <th>y_Actual</th>\n",
       "      <th>y_Predicted</th>\n",
       "    </tr>\n",
       "  </thead>\n",
       "  <tbody>\n",
       "    <tr>\n",
       "      <th>599</th>\n",
       "      <td>unacc</td>\n",
       "      <td>unacc</td>\n",
       "    </tr>\n",
       "    <tr>\n",
       "      <th>1201</th>\n",
       "      <td>acc</td>\n",
       "      <td>unacc</td>\n",
       "    </tr>\n",
       "    <tr>\n",
       "      <th>628</th>\n",
       "      <td>unacc</td>\n",
       "      <td>unacc</td>\n",
       "    </tr>\n",
       "    <tr>\n",
       "      <th>1498</th>\n",
       "      <td>acc</td>\n",
       "      <td>unacc</td>\n",
       "    </tr>\n",
       "    <tr>\n",
       "      <th>1263</th>\n",
       "      <td>unacc</td>\n",
       "      <td>unacc</td>\n",
       "    </tr>\n",
       "    <tr>\n",
       "      <th>...</th>\n",
       "      <td>...</td>\n",
       "      <td>...</td>\n",
       "    </tr>\n",
       "    <tr>\n",
       "      <th>490</th>\n",
       "      <td>unacc</td>\n",
       "      <td>unacc</td>\n",
       "    </tr>\n",
       "    <tr>\n",
       "      <th>1277</th>\n",
       "      <td>unacc</td>\n",
       "      <td>unacc</td>\n",
       "    </tr>\n",
       "    <tr>\n",
       "      <th>287</th>\n",
       "      <td>acc</td>\n",
       "      <td>unacc</td>\n",
       "    </tr>\n",
       "    <tr>\n",
       "      <th>1639</th>\n",
       "      <td>unacc</td>\n",
       "      <td>unacc</td>\n",
       "    </tr>\n",
       "    <tr>\n",
       "      <th>1714</th>\n",
       "      <td>good</td>\n",
       "      <td>unacc</td>\n",
       "    </tr>\n",
       "  </tbody>\n",
       "</table>\n",
       "<p>519 rows × 2 columns</p>\n",
       "</div>"
      ],
      "text/plain": [
       "     y_Actual y_Predicted\n",
       "599     unacc       unacc\n",
       "1201      acc       unacc\n",
       "628     unacc       unacc\n",
       "1498      acc       unacc\n",
       "1263    unacc       unacc\n",
       "...       ...         ...\n",
       "490     unacc       unacc\n",
       "1277    unacc       unacc\n",
       "287       acc       unacc\n",
       "1639    unacc       unacc\n",
       "1714     good       unacc\n",
       "\n",
       "[519 rows x 2 columns]"
      ]
     },
     "execution_count": 12,
     "metadata": {},
     "output_type": "execute_result"
    }
   ],
   "source": [
    "#Task 2.3\n",
    "#Create a datframe from 'actual set' and 'predicted' \n",
    "Actual_Predicted = {'y_Actual':    y_test,\n",
    "                    'y_Predicted':  y_pred_gini}\n",
    "    \n",
    "df = pd.DataFrame(Actual_Predicted, columns=['y_Actual','y_Predicted'])\n",
    "df"
   ]
  },
  {
   "cell_type": "code",
   "execution_count": 13,
   "id": "9f0980b5",
   "metadata": {},
   "outputs": [
    {
     "data": {
      "text/plain": [
       "{'acc': 118, 'good': 19, 'unacc': 358, 'vgood': 24}"
      ]
     },
     "execution_count": 13,
     "metadata": {},
     "output_type": "execute_result"
    }
   ],
   "source": [
    "##Task 2.3 unique classes in actual test set\n",
    "unique, counts = np.unique(y_test, return_counts=True)\n",
    "dict(zip(unique, counts))\n"
   ]
  },
  {
   "cell_type": "code",
   "execution_count": 18,
   "id": "c57773d4",
   "metadata": {},
   "outputs": [
    {
     "data": {
      "text/plain": [
       "{'acc': 85, 'unacc': 434}"
      ]
     },
     "execution_count": 18,
     "metadata": {},
     "output_type": "execute_result"
    }
   ],
   "source": [
    "##Task 2.3 unique classes in prediction\n",
    "unique, counts = np.unique(y_pred_gini, return_counts=True)\n",
    "dict(zip(unique, counts))"
   ]
  },
  {
   "cell_type": "code",
   "execution_count": null,
   "id": "06d6042f",
   "metadata": {},
   "outputs": [],
   "source": []
  },
  {
   "cell_type": "code",
   "execution_count": null,
   "id": "0ba09d37-8d17-49e3-a76a-a7722684b968",
   "metadata": {},
   "outputs": [],
   "source": []
  },
  {
   "cell_type": "code",
   "execution_count": null,
   "id": "d5d69d8a-29ea-4835-ba7c-6413049de08f",
   "metadata": {},
   "outputs": [],
   "source": []
  }
 ],
 "metadata": {
  "kernelspec": {
   "display_name": "Python 3 (ipykernel)",
   "language": "python",
   "name": "python3"
  },
  "language_info": {
   "codemirror_mode": {
    "name": "ipython",
    "version": 3
   },
   "file_extension": ".py",
   "mimetype": "text/x-python",
   "name": "python",
   "nbconvert_exporter": "python",
   "pygments_lexer": "ipython3",
   "version": "3.11.7"
  }
 },
 "nbformat": 4,
 "nbformat_minor": 5
}
